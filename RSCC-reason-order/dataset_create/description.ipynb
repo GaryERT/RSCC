{
 "cells": [
  {
   "cell_type": "code",
   "execution_count": null,
   "id": "72a2a1f2-f88d-4cf9-9948-df6ce2c1713d",
   "metadata": {},
   "outputs": [
    {
     "name": "stdout",
     "output_type": "stream",
     "text": [
      "You are given a remote sensing image. Please provide a detailed and precise description of the scene. Include information about visible features such as buildings, roads, vegetation, water bodies, and any other land cover types. Describe their relative positions using spatial references such as 'in the north', 'on the southwest side', or 'towards the center'. Mention the functional characteristics if possible, like 'residential area', 'industrial zone', or 'agricultural field'. Be concise, but include as much relevant spatial and structural detail as possible.Description Only!! No other explainations or inference!\n"
     ]
    },
    {
     "name": "stderr",
     "output_type": "stream",
     "text": [
      "Generating descriptions:   0%|          | 0/7585 [00:01<?, ?it/s]\n"
     ]
    }
   ],
   "source": [
    "import os\n",
    "import json\n",
    "import base64\n",
    "import pandas as pd\n",
    "from tqdm import tqdm\n",
    "from openai import OpenAI\n",
    "from PIL import Image\n",
    "from concurrent.futures import ThreadPoolExecutor, as_completed\n",
    "\n",
    "# ===== 参数配置 =====\n",
    "api_key = \"sk-1d0c4ad63cca426ea45c2b1027425673\"\n",
    "client = OpenAI(api_key=api_key, base_url=\"https://dashscope.aliyuncs.com/compatible-mode/v1\")\n",
    "model = \"qwen-vl-plus-latest\"\n",
    "\n",
    "json_path = \"/root/autodl-tmp/data/RSCC-reason-order/dataset_create/remote_sensing_1k_train_dataset.json\"\n",
    "output_tsv = \"/root/autodl-tmp/data/RSCC-reason-order/dataset_create/individual_image_descriptions.tsv\"\n",
    "\n",
    "prompt = (\n",
    "    \"You are given a remote sensing image. Please provide a detailed and precise description of the scene. \"\n",
    "    \"Include information about visible features such as buildings, roads, vegetation, water bodies, and any other land cover types. \"\n",
    "    \"Describe their relative positions using spatial references such as 'in the north', 'on the southwest side', or 'towards the center'. \"\n",
    "    \"Mention the functional characteristics if possible, like 'residential area', 'industrial zone', or 'agricultural field'. \"\n",
    "    \"Be concise, but include as much relevant spatial and structural detail as possible.\"\n",
    "    \"Description Only!! No other explainations or inference!\"\n",
    ")\n",
    "print(prompt)\n",
    "\n",
    "max_workers = 12  # 根据机器性能设置（建议 8~16 之间）\n",
    "# ====================\n",
    "\n",
    "def encode_image(path):\n",
    "    with open(path, \"rb\") as f:\n",
    "        return base64.b64encode(f.read()).decode(\"utf-8\")\n",
    "\n",
    "def describe_image(img_path):\n",
    "    try:\n",
    "        img_base64 = encode_image(img_path)\n",
    "        response = client.chat.completions.create(\n",
    "            model=model,\n",
    "            messages=[\n",
    "                {\n",
    "                    \"role\": \"user\",\n",
    "                    \"content\": [\n",
    "                        {\"type\": \"text\", \"text\": prompt},\n",
    "                        {\"type\": \"image_url\", \"image_url\": {\"url\": f\"data:image/png;base64,{img_base64}\"}}\n",
    "                    ]\n",
    "                }\n",
    "            ]\n",
    "        )\n",
    "        description = response.choices[0].message.content.strip()\n",
    "    except Exception as e:\n",
    "        description = f\"ERROR: {e}\"\n",
    "    return {\"image_path\": img_path, \"description\": description}\n",
    "\n",
    "# 加载图像列表\n",
    "with open(json_path, \"r\") as f:\n",
    "    dataset = json.load(f)\n",
    "image_list = [img for item in dataset for img in item[\"images\"]]\n",
    "\n",
    "# 多线程推理\n",
    "results = []\n",
    "with ThreadPoolExecutor(max_workers=max_workers) as executor:\n",
    "    futures = {executor.submit(describe_image, img_path): img_path for img_path in image_list}\n",
    "    for future in tqdm(as_completed(futures), total=len(futures), desc=\"Generating descriptions\"):\n",
    "        results.append(future.result())"
   ]
  },
  {
   "cell_type": "code",
   "execution_count": 4,
   "id": "aa21c7a5-c701-4441-b04d-445452d9e457",
   "metadata": {},
   "outputs": [
    {
     "name": "stdout",
     "output_type": "stream",
     "text": [
      "✅ 完成！已保存至：/root/autodl-tmp/data/RSCC-reason-order/dataset_create/individual_image_descriptions.tsv\n"
     ]
    }
   ],
   "source": [
    "# 保存为 TSV 文件\n",
    "df = pd.DataFrame(results)\n",
    "df.to_csv(output_tsv, sep=\"\\t\", index=False)\n",
    "print(f\"✅ 完成！已保存至：{output_tsv}\")"
   ]
  },
  {
   "cell_type": "code",
   "execution_count": null,
   "id": "80a77fbc-4b66-4590-ab52-f68371bd9170",
   "metadata": {},
   "outputs": [],
   "source": []
  }
 ],
 "metadata": {
  "kernelspec": {
   "display_name": "Python 3 (ipykernel)",
   "language": "python",
   "name": "python3"
  },
  "language_info": {
   "codemirror_mode": {
    "name": "ipython",
    "version": 3
   },
   "file_extension": ".py",
   "mimetype": "text/x-python",
   "name": "python",
   "nbconvert_exporter": "python",
   "pygments_lexer": "ipython3",
   "version": "3.12.3"
  }
 },
 "nbformat": 4,
 "nbformat_minor": 5
}
