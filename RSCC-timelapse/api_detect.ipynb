{
 "cells": [
  {
   "cell_type": "code",
   "execution_count": 7,
   "id": "16feb7c6-a92f-4c03-bd31-d90f41559bcb",
   "metadata": {},
   "outputs": [],
   "source": [
    "import os\n",
    "import json\n",
    "import base64\n",
    "from datetime import datetime\n",
    "from itertools import combinations\n",
    "import pandas as pd\n",
    "from openai import OpenAI\n",
    "from tqdm import tqdm\n",
    "from concurrent.futures import ThreadPoolExecutor, as_completed"
   ]
  },
  {
   "cell_type": "code",
   "execution_count": 8,
   "id": "77447610-f763-4dc8-a25e-249a60848168",
   "metadata": {},
   "outputs": [],
   "source": [
    "# ========== 参数设置 ==========\n",
    "# api_key = \"sk-ZgDFRCmm1b5b2aEAe4E2T3BlbKFJDb13bdebCfa840aaAa75\"  # <<< 修改为你自己的 API Key\n",
    "api_key = \"sk-1d0c4ad63cca426ea45c2b1027425673\"\n",
    "root_dir = \"/root/autodl-tmp/data/RSCC-timelapse/TAMMs\"\n",
    "output_csv = \"/root/autodl-tmp/data/RSCC-timelapse/qwen_change_detection_results.csv\"\n",
    "max_workers = 5  # 并发线程数\n",
    "# =============================="
   ]
  },
  {
   "cell_type": "code",
   "execution_count": 9,
   "id": "4bf96217-22d5-4bdb-b77d-f74f4260a6bb",
   "metadata": {},
   "outputs": [],
   "source": [
    "# client = OpenAI(api_key=api_key, base_url=\"https://www.aigptx.top/v1\")\n",
    "client = OpenAI(api_key=api_key, base_url=\"https://dashscope.aliyuncs.com/compatible-mode/v1\")\n",
    "\n",
    "\n",
    "def encode_image(image_path):\n",
    "    with open(image_path, \"rb\") as f:\n",
    "        return base64.b64encode(f.read()).decode('utf-8')\n",
    "\n",
    "# 任务函数（给线程池调用）\n",
    "def process_pair(img1, img2):\n",
    "    try:\n",
    "        date1 = datetime.strptime(os.path.basename(img1).split(\".\")[0], \"%Y-%m-%d\")\n",
    "        date2 = datetime.strptime(os.path.basename(img2).split(\".\")[0], \"%Y-%m-%d\")\n",
    "        day_diff = abs((date2 - date1).days)\n",
    "\n",
    "        b64_img1 = encode_image(img1)\n",
    "        b64_img2 = encode_image(img2)\n",
    "\n",
    "        response = client.chat.completions.create(\n",
    "            model=\"qwen-vl-plus-latest\",\n",
    "            messages=[\n",
    "                {\n",
    "                    \"role\": \"user\",\n",
    "                    \"content\": [\n",
    "                        {\n",
    "                            \"type\": \"text\",\n",
    "                            \"text\": \"\"\"You are given two satellite images of the same location taken at different times.\n",
    "                                        \n",
    "                                        Your task is to determine whether there are any **real-world changes** in the physical scene between the two images.\n",
    "                                        \n",
    "                                        Please focus only on meaningful structural or land-use changes such as the appearance, disappearance, or transformation of **buildings, roads, bodies of water, vegetation patterns, or other man-made or natural features**.\n",
    "                                        \n",
    "                                        Do **not** consider differences caused by:\n",
    "                                        - Seasonal effects (e.g., snow vs no snow)\n",
    "                                        - Lighting or time-of-day variations\n",
    "                                        - Shadows, clouds, or changes in color tones\n",
    "                                        \n",
    "                                        Only consider actual alterations to the physical content of the scene.\n",
    "                                        \n",
    "                                        Please answer with a single word: `True` if a real-world change is detected, or `False` if not.\n",
    "                                    \"\"\"\n",
    "                        },\n",
    "                        {\"type\": \"image_url\", \"image_url\": {\"url\": f\"data:image/jpeg;base64,{b64_img1}\"}},\n",
    "                        {\"type\": \"image_url\", \"image_url\": {\"url\": f\"data:image/jpeg;base64,{b64_img2}\"}},\n",
    "                    ]\n",
    "                }\n",
    "            ],\n",
    "            temperature=0.1,\n",
    "            max_tokens=10\n",
    "        )\n",
    "\n",
    "        answer = response.choices[0].message.content.strip()\n",
    "        is_changed = \"True\" in answer\n",
    "\n",
    "        return {\n",
    "            \"image_1\": img1,\n",
    "            \"image_2\": img2,\n",
    "            \"day_diff\": f\"{day_diff} days\",\n",
    "            \"change_detected\": is_changed\n",
    "        }\n",
    "\n",
    "    except Exception as e:\n",
    "        print(f\"\\n❌ Error comparing {img1} and {img2}: {e}\")\n",
    "        return None"
   ]
  },
  {
   "cell_type": "code",
   "execution_count": 10,
   "id": "759bb236-6304-4931-9ba4-078ed3fd5243",
   "metadata": {},
   "outputs": [],
   "source": [
    "# 1. 构建所有任务\n",
    "all_tasks = []\n",
    "for category in os.listdir(root_dir):\n",
    "    category_path = os.path.join(root_dir, category)\n",
    "    if not os.path.isdir(category_path):\n",
    "        continue\n",
    "\n",
    "    for sequence in os.listdir(category_path):\n",
    "        sequence_path = os.path.join(category_path, sequence)\n",
    "        if not os.path.isdir(sequence_path):\n",
    "            continue\n",
    "\n",
    "        image_files = [f for f in os.listdir(sequence_path) if f.endswith(\".jpg\")]\n",
    "        if len(image_files) < 2:\n",
    "            continue\n",
    "\n",
    "        image_files.sort()\n",
    "        image_paths = [\n",
    "            os.path.join(sequence_path, f)\n",
    "            for f in sorted(image_files, key=lambda name: datetime.strptime(name.split(\".\")[0], \"%Y-%m-%d\"))\n",
    "        ]\n",
    "        all_tasks.extend(list(combinations(image_paths, 2)))"
   ]
  },
  {
   "cell_type": "code",
   "execution_count": null,
   "id": "cd46cdb3-8e5b-46f3-8de9-df7d317eb873",
   "metadata": {},
   "outputs": [
    {
     "name": "stderr",
     "output_type": "stream",
     "text": [
      "Processing image pairs (parallel):   4%|▎         | 1085/30090 [02:13<45:34, 10.61it/s]  "
     ]
    }
   ],
   "source": [
    "# 2. 多线程处理任务\n",
    "results = []\n",
    "with ThreadPoolExecutor(max_workers=max_workers) as executor:\n",
    "    futures = [executor.submit(process_pair, img1, img2) for img1, img2 in all_tasks]\n",
    "    for future in tqdm(as_completed(futures), total=len(futures), desc=\"Processing image pairs (parallel)\"):\n",
    "        result = future.result()\n",
    "        if result:\n",
    "            results.append(result)"
   ]
  },
  {
   "cell_type": "code",
   "execution_count": 1,
   "id": "1b1c5d0a-74c2-4040-9397-e4a673e6a787",
   "metadata": {},
   "outputs": [
    {
     "ename": "NameError",
     "evalue": "name 'pd' is not defined",
     "output_type": "error",
     "traceback": [
      "\u001b[0;31m---------------------------------------------------------------------------\u001b[0m",
      "\u001b[0;31mNameError\u001b[0m                                 Traceback (most recent call last)",
      "Cell \u001b[0;32mIn[1], line 2\u001b[0m\n\u001b[1;32m      1\u001b[0m \u001b[38;5;66;03m# 3. 保存结果\u001b[39;00m\n\u001b[0;32m----> 2\u001b[0m df \u001b[38;5;241m=\u001b[39m \u001b[43mpd\u001b[49m\u001b[38;5;241m.\u001b[39mDataFrame(results)\n\u001b[1;32m      3\u001b[0m df\u001b[38;5;241m.\u001b[39mto_csv(output_csv, index\u001b[38;5;241m=\u001b[39m\u001b[38;5;28;01mFalse\u001b[39;00m)\n\u001b[1;32m      4\u001b[0m \u001b[38;5;28mprint\u001b[39m(\u001b[38;5;124mf\u001b[39m\u001b[38;5;124m\"\u001b[39m\u001b[38;5;130;01m\\n\u001b[39;00m\u001b[38;5;124m📄 Results saved to: \u001b[39m\u001b[38;5;132;01m{\u001b[39;00moutput_csv\u001b[38;5;132;01m}\u001b[39;00m\u001b[38;5;124m\"\u001b[39m)\n",
      "\u001b[0;31mNameError\u001b[0m: name 'pd' is not defined"
     ]
    }
   ],
   "source": [
    "# 3. 保存结果\n",
    "df = pd.DataFrame(results)\n",
    "df.to_csv(output_csv, index=False)\n",
    "print(f\"\\n📄 Results saved to: {output_csv}\")"
   ]
  },
  {
   "cell_type": "code",
   "execution_count": null,
   "id": "3a9f1319-7197-4b52-a642-01ffc66ad34a",
   "metadata": {},
   "outputs": [],
   "source": []
  }
 ],
 "metadata": {
  "kernelspec": {
   "display_name": "Python 3 (ipykernel)",
   "language": "python",
   "name": "python3"
  },
  "language_info": {
   "codemirror_mode": {
    "name": "ipython",
    "version": 3
   },
   "file_extension": ".py",
   "mimetype": "text/x-python",
   "name": "python",
   "nbconvert_exporter": "python",
   "pygments_lexer": "ipython3",
   "version": "3.12.3"
  }
 },
 "nbformat": 4,
 "nbformat_minor": 5
}
